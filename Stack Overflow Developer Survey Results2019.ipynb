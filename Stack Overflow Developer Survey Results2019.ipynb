{
 "cells": [
  {
   "cell_type": "markdown",
   "metadata": {},
   "source": [
    "<p style=\"text-align:center\">\n",
    "    <a href=\"https://skills.network/?utm_medium=Exinfluencer&utm_source=Exinfluencer&utm_content=000026UJ&utm_term=10006555&utm_id=NA-SkillsNetwork-Channel-SkillsNetworkCoursesIBMDA0321ENSkillsNetwork21426264-2022-01-01\" target=\"_blank\">\n",
    "    <img src=\"https://cf-courses-data.s3.us.cloud-object-storage.appdomain.cloud/assets/logos/SN_web_lightmode.png\" width=\"200\" alt=\"Skills Network Logo\"  />\n",
    "    </a>\n",
    "</p>\n"
   ]
  },
  {
   "cell_type": "markdown",
   "metadata": {},
   "source": [
    "# **Data Visualization Lab**\n"
   ]
  },
  {
   "cell_type": "markdown",
   "metadata": {},
   "source": [
    "Estimated time needed: **45 to 60** minutes\n"
   ]
  },
  {
   "cell_type": "markdown",
   "metadata": {},
   "source": [
    "In this assignment you will be focusing on the visualization of data.\n",
    "\n",
    "The data set will be presented to you in the form of a RDBMS.\n",
    "\n",
    "You will have to use SQL queries to extract the data.\n"
   ]
  },
  {
   "cell_type": "markdown",
   "metadata": {},
   "source": [
    "## Objectives\n"
   ]
  },
  {
   "cell_type": "markdown",
   "metadata": {},
   "source": [
    "In this lab you will perform the following:\n"
   ]
  },
  {
   "cell_type": "markdown",
   "metadata": {},
   "source": [
    "*   Visualize the distribution of data.\n",
    "\n",
    "*   Visualize the relationship between two features.\n",
    "\n",
    "*   Visualize composition of data.\n",
    "\n",
    "*   Visualize comparison of data.\n"
   ]
  },
  {
   "cell_type": "markdown",
   "metadata": {},
   "source": [
    "<hr>\n"
   ]
  },
  {
   "cell_type": "markdown",
   "metadata": {},
   "source": [
    "## Demo: How to work with database\n"
   ]
  },
  {
   "cell_type": "markdown",
   "metadata": {},
   "source": [
    "Download database file.\n"
   ]
  },
  {
   "cell_type": "code",
   "execution_count": 3,
   "metadata": {},
   "outputs": [
    {
     "name": "stderr",
     "output_type": "stream",
     "text": [
      "--2023-02-16 17:17:25--  https://cf-courses-data.s3.us.cloud-object-storage.appdomain.cloud/IBM-DA0321EN-SkillsNetwork/LargeData/m4_survey_data.sqlite\n",
      "Resolving cf-courses-data.s3.us.cloud-object-storage.appdomain.cloud (cf-courses-data.s3.us.cloud-object-storage.appdomain.cloud)... 169.45.118.108\n",
      "Connecting to cf-courses-data.s3.us.cloud-object-storage.appdomain.cloud (cf-courses-data.s3.us.cloud-object-storage.appdomain.cloud)|169.45.118.108|:443... connected.\n",
      "HTTP request sent, awaiting response... 200 OK\n",
      "Length: 36679680 (35M) [application/octet-stream]\n",
      "Saving to: 'm4_survey_data.sqlite'\n",
      "\n",
      "     0K .......... .......... .......... .......... ..........  0%  620K 58s\n",
      "    50K .......... .......... .......... .......... ..........  0%  817K 51s\n",
      "   100K .......... .......... .......... .......... ..........  0%  787K 49s\n",
      "   150K .......... .......... .......... .......... ..........  0%  644K 50s\n",
      "   200K .......... .......... .......... .......... ..........  0% 2.09M 44s\n",
      "   250K .......... .......... .......... .......... ..........  0% 4.63M 38s\n",
      "   300K .......... .......... .......... .......... ..........  0% 3.11M 34s\n",
      "   350K .......... .......... .......... .......... ..........  1% 2.00M 32s\n",
      "   400K .......... .......... .......... .......... ..........  1% 1.40M 31s\n",
      "   450K .......... .......... .......... .......... ..........  1%  933K 31s\n",
      "   500K .......... .......... .......... .......... ..........  1%  669K 33s\n",
      "   550K .......... .......... .......... .......... ..........  1%  415K 38s\n",
      "   600K .......... .......... .......... .......... ..........  1% 5.29M 35s\n",
      "   650K .......... .......... .......... .......... ..........  1% 6.96M 33s\n",
      "   700K .......... .......... .......... .......... ..........  2% 4.66M 31s\n",
      "   750K .......... .......... .......... .......... ..........  2% 6.04M 30s\n",
      "   800K .......... .......... .......... .......... ..........  2% 3.66M 28s\n",
      "   850K .......... .......... .......... .......... ..........  2% 2.24M 28s\n",
      "   900K .......... .......... .......... .......... ..........  2% 11.4M 26s\n",
      "   950K .......... .......... .......... .......... ..........  2% 4.44M 25s\n",
      "  1000K .......... .......... .......... .......... ..........  2% 8.35M 24s\n",
      "  1050K .......... .......... .......... .......... ..........  3% 6.07M 23s\n",
      "  1100K .......... .......... .......... .......... ..........  3% 5.91M 23s\n",
      "  1150K .......... .......... .......... .......... ..........  3% 3.24M 22s\n",
      "  1200K .......... .......... .......... .......... ..........  3% 2.75M 22s\n",
      "  1250K .......... .......... .......... .......... ..........  3% 6.99M 21s\n",
      "  1300K .......... .......... .......... .......... ..........  3% 7.15M 20s\n",
      "  1350K .......... .......... .......... .......... ..........  3% 3.20M 20s\n",
      "  1400K .......... .......... .......... .......... ..........  4% 5.22M 19s\n",
      "  1450K .......... .......... .......... .......... ..........  4% 9.57M 19s\n",
      "  1500K .......... .......... .......... .......... ..........  4% 7.71M 18s\n",
      "  1550K .......... .......... .......... .......... ..........  4% 5.29M 18s\n",
      "  1600K .......... .......... .......... .......... ..........  4% 5.57M 18s\n",
      "  1650K .......... .......... .......... .......... ..........  4% 4.64M 17s\n",
      "  1700K .......... .......... .......... .......... ..........  4% 6.41M 17s\n",
      "  1750K .......... .......... .......... .......... ..........  5% 4.95M 17s\n",
      "  1800K .......... .......... .......... .......... ..........  5% 5.96M 16s\n",
      "  1850K .......... .......... .......... .......... ..........  5% 9.73M 16s\n",
      "  1900K .......... .......... .......... .......... ..........  5% 4.94M 16s\n",
      "  1950K .......... .......... .......... .......... ..........  5% 3.33M 15s\n",
      "  2000K .......... .......... .......... .......... ..........  5% 6.03M 15s\n",
      "  2050K .......... .......... .......... .......... ..........  5% 7.27M 15s\n",
      "  2100K .......... .......... .......... .......... ..........  6% 5.19M 15s\n",
      "  2150K .......... .......... .......... .......... ..........  6% 6.89M 14s\n",
      "  2200K .......... .......... .......... .......... ..........  6% 6.56M 14s\n",
      "  2250K .......... .......... .......... .......... ..........  6% 4.07M 14s\n",
      "  2300K .......... .......... .......... .......... ..........  6% 3.66M 14s\n",
      "  2350K .......... .......... .......... .......... ..........  6% 5.45M 14s\n",
      "  2400K .......... .......... .......... .......... ..........  6% 4.88M 14s\n",
      "  2450K .......... .......... .......... .......... ..........  6% 3.32M 13s\n",
      "  2500K .......... .......... .......... .......... ..........  7% 7.04M 13s\n",
      "  2550K .......... .......... .......... .......... ..........  7% 8.02M 13s\n",
      "  2600K .......... .......... .......... .......... ..........  7% 6.76M 13s\n",
      "  2650K .......... .......... .......... .......... ..........  7% 5.91M 13s\n",
      "  2700K .......... .......... .......... .......... ..........  7% 6.22M 13s\n",
      "  2750K .......... .......... .......... .......... ..........  7% 3.88M 13s\n",
      "  2800K .......... .......... .......... .......... ..........  7% 1.17M 13s\n",
      "  2850K .......... .......... .......... .......... ..........  8% 2.41M 13s\n",
      "  2900K .......... .......... .......... .......... ..........  8% 7.59M 13s\n",
      "  2950K .......... .......... .......... .......... ..........  8% 9.65M 12s\n",
      "  3000K .......... .......... .......... .......... ..........  8% 5.85M 12s\n",
      "  3050K .......... .......... .......... .......... ..........  8% 6.18M 12s\n",
      "  3100K .......... .......... .......... .......... ..........  8% 10.1M 12s\n",
      "  3150K .......... .......... .......... .......... ..........  8% 4.61M 12s\n",
      "  3200K .......... .......... .......... .......... ..........  9% 1.01M 12s\n",
      "  3250K .......... .......... .......... .......... ..........  9% 5.98M 12s\n",
      "  3300K .......... .......... .......... .......... ..........  9% 6.92M 12s\n",
      "  3350K .......... .......... .......... .......... ..........  9% 3.98M 12s\n",
      "  3400K .......... .......... .......... .......... ..........  9% 6.81M 12s\n",
      "  3450K .......... .......... .......... .......... ..........  9% 5.30M 12s\n",
      "  3500K .......... .......... .......... .......... ..........  9% 7.45M 12s\n",
      "  3550K .......... .......... .......... .......... .......... 10% 5.80M 11s\n",
      "  3600K .......... .......... .......... .......... .......... 10% 3.97M 11s\n",
      "  3650K .......... .......... .......... .......... .......... 10% 4.13M 11s\n",
      "  3700K .......... .......... .......... .......... .......... 10% 5.04M 11s\n",
      "  3750K .......... .......... .......... .......... .......... 10% 3.84M 11s\n",
      "  3800K .......... .......... .......... .......... .......... 10% 5.87M 11s\n",
      "  3850K .......... .......... .......... .......... .......... 10% 4.54M 11s\n",
      "  3900K .......... .......... .......... .......... .......... 11% 5.44M 11s\n",
      "  3950K .......... .......... .......... .......... .......... 11% 4.81M 11s\n",
      "  4000K .......... .......... .......... .......... .......... 11% 5.45M 11s\n",
      "  4050K .......... .......... .......... .......... .......... 11%  828K 11s\n",
      "  4100K .......... .......... .......... .......... .......... 11% 6.48M 11s\n",
      "  4150K .......... .......... .......... .......... .......... 11% 6.36M 11s\n",
      "  4200K .......... .......... .......... .......... .......... 11% 4.39M 11s\n",
      "  4250K .......... .......... .......... .......... .......... 12%  263K 12s\n",
      "  4300K .......... .......... .......... .......... .......... 12%  764K 12s\n",
      "  4350K .......... .......... .......... .......... .......... 12% 66.3M 12s\n",
      "  4400K .......... .......... .......... .......... .......... 12%  125M 12s\n",
      "  4450K .......... .......... .......... .......... .......... 12%  120M 12s\n",
      "  4500K .......... .......... .......... .......... .......... 12%  182M 12s\n",
      "  4550K .......... .......... .......... .......... .......... 12%  148M 12s\n",
      "  4600K .......... .......... .......... .......... .......... 12%  218M 11s\n",
      "  4650K .......... .......... .......... .......... .......... 13% 69.8M 11s\n",
      "  4700K .......... .......... .......... .......... .......... 13%  176M 11s\n",
      "  4750K .......... .......... .......... .......... .......... 13%  207M 11s\n",
      "  4800K .......... .......... .......... .......... .......... 13%  224M 11s\n",
      "  4850K .......... .......... .......... .......... .......... 13%  118M 11s\n",
      "  4900K .......... .......... .......... .......... .......... 13%  127M 11s\n",
      "  4950K .......... .......... .......... .......... .......... 13%  175M 11s\n",
      "  5000K .......... .......... .......... .......... .......... 14% 75.2M 10s\n",
      "  5050K .......... .......... .......... .......... .......... 14% 23.5M 10s\n",
      "  5100K .......... .......... .......... .......... .......... 14%  160M 10s\n",
      "  5150K .......... .......... .......... .......... .......... 14% 92.2M 10s\n",
      "  5200K .......... .......... .......... .......... .......... 14% 72.1M 10s\n",
      "  5250K .......... .......... .......... .......... .......... 14%  211M 10s\n",
      "  5300K .......... .......... .......... .......... .......... 14% 1.58M 10s\n",
      "  5350K .......... .......... .......... .......... .......... 15% 3.80M 10s\n",
      "  5400K .......... .......... .......... .......... .......... 15% 5.72M 10s\n",
      "  5450K .......... .......... .......... .......... .......... 15% 5.19M 10s\n",
      "  5500K .......... .......... .......... .......... .......... 15% 3.59M 10s\n",
      "  5550K .......... .......... .......... .......... .......... 15% 1.99M 10s\n",
      "  5600K .......... .......... .......... .......... .......... 15% 4.17M 10s\n",
      "  5650K .......... .......... .......... .......... .......... 15% 3.02M 10s\n",
      "  5700K .......... .......... .......... .......... .......... 16% 20.1M 10s\n",
      "  5750K .......... .......... .......... .......... .......... 16% 4.59M 10s\n",
      "  5800K .......... .......... .......... .......... .......... 16% 6.97M 10s\n",
      "  5850K .......... .......... .......... .......... .......... 16% 4.72M 10s\n",
      "  5900K .......... .......... .......... .......... .......... 16% 4.18M 9s\n",
      "  5950K .......... .......... .......... .......... .......... 16% 2.39M 9s\n",
      "  6000K .......... .......... .......... .......... .......... 16% 27.7M 9s\n",
      "  6050K .......... .......... .......... .......... .......... 17% 3.17M 9s\n",
      "  6100K .......... .......... .......... .......... .......... 17% 4.33M 9s\n",
      "  6150K .......... .......... .......... .......... .......... 17% 8.18M 9s\n",
      "  6200K .......... .......... .......... .......... .......... 17% 6.35M 9s\n",
      "  6250K .......... .......... .......... .......... .......... 17% 5.66M 9s\n",
      "  6300K .......... .......... .......... .......... .......... 17% 4.50M 9s\n",
      "  6350K .......... .......... .......... .......... .......... 17% 1.11M 9s\n",
      "  6400K .......... .......... .......... .......... .......... 18% 9.69M 9s\n",
      "  6450K .......... .......... .......... .......... .......... 18% 3.44M 9s\n",
      "  6500K .......... .......... .......... .......... .......... 18% 5.96M 9s\n",
      "  6550K .......... .......... .......... .......... .......... 18% 6.33M 9s\n",
      "  6600K .......... .......... .......... .......... .......... 18% 9.28M 9s\n",
      "  6650K .......... .......... .......... .......... .......... 18% 5.08M 9s\n",
      "  6700K .......... .......... .......... .......... .......... 18%  817K 9s\n",
      "  6750K .......... .......... .......... .......... .......... 18% 1.89M 9s\n",
      "  6800K .......... .......... .......... .......... .......... 19% 4.21M 9s\n",
      "  6850K .......... .......... .......... .......... .......... 19% 4.01M 9s\n",
      "  6900K .......... .......... .......... .......... .......... 19% 4.70M 9s\n",
      "  6950K .......... .......... .......... .......... .......... 19% 7.27M 9s\n",
      "  7000K .......... .......... .......... .......... .......... 19% 4.19M 9s\n",
      "  7050K .......... .......... .......... .......... .......... 19% 4.60M 9s\n",
      "  7100K .......... .......... .......... .......... .......... 19% 7.21M 9s\n",
      "  7150K .......... .......... .......... .......... .......... 20% 4.33M 9s\n",
      "  7200K .......... .......... .......... .......... .......... 20% 3.26M 9s\n",
      "  7250K .......... .......... .......... .......... .......... 20% 1.28M 9s\n",
      "  7300K .......... .......... .......... .......... .......... 20% 3.67M 9s\n",
      "  7350K .......... .......... .......... .......... .......... 20% 16.3M 9s\n",
      "  7400K .......... .......... .......... .......... .......... 20% 2.39M 9s\n",
      "  7450K .......... .......... .......... .......... .......... 20% 98.0M 9s\n",
      "  7500K .......... .......... .......... .......... .......... 21% 1.33M 9s\n",
      "  7550K .......... .......... .......... .......... .......... 21% 4.46M 9s\n",
      "  7600K .......... .......... .......... .......... .......... 21% 5.13M 9s\n",
      "  7650K .......... .......... .......... .......... .......... 21% 6.81M 9s"
     ]
    }
   ],
   "source": [
    "!wget https://cf-courses-data.s3.us.cloud-object-storage.appdomain.cloud/IBM-DA0321EN-SkillsNetwork/LargeData/m4_survey_data.sqlite"
   ]
  },
  {
   "cell_type": "markdown",
   "metadata": {},
   "source": [
    "Connect to the database.\n"
   ]
  },
  {
   "cell_type": "code",
   "execution_count": 31,
   "metadata": {},
   "outputs": [],
   "source": [
    "import sqlite3\n",
    "conn = sqlite3.connect('m4_survey_data.sqlite') # open a database connection"
   ]
  },
  {
   "cell_type": "markdown",
   "metadata": {},
   "source": [
    "Import pandas module.\n"
   ]
  },
  {
   "cell_type": "code",
   "execution_count": 27,
   "metadata": {},
   "outputs": [],
   "source": [
    "import pandas as pd\n",
    "import matplotlib.pyplot as plt"
   ]
  },
  {
   "cell_type": "markdown",
   "metadata": {},
   "source": [
    "## Demo: How to run an sql query\n"
   ]
  },
  {
   "cell_type": "code",
   "execution_count": 32,
   "metadata": {},
   "outputs": [
    {
     "data": {
      "text/html": [
       "<div>\n",
       "<style scoped>\n",
       "    .dataframe tbody tr th:only-of-type {\n",
       "        vertical-align: middle;\n",
       "    }\n",
       "\n",
       "    .dataframe tbody tr th {\n",
       "        vertical-align: top;\n",
       "    }\n",
       "\n",
       "    .dataframe thead th {\n",
       "        text-align: right;\n",
       "    }\n",
       "</style>\n",
       "<table border=\"1\" class=\"dataframe\">\n",
       "  <thead>\n",
       "    <tr style=\"text-align: right;\">\n",
       "      <th></th>\n",
       "      <th>COUNT(*)</th>\n",
       "    </tr>\n",
       "  </thead>\n",
       "  <tbody>\n",
       "    <tr>\n",
       "      <th>0</th>\n",
       "      <td>11398</td>\n",
       "    </tr>\n",
       "  </tbody>\n",
       "</table>\n",
       "</div>"
      ],
      "text/plain": [
       "   COUNT(*)\n",
       "0     11398"
      ]
     },
     "execution_count": 32,
     "metadata": {},
     "output_type": "execute_result"
    }
   ],
   "source": [
    "# print how many rows are there in the table named 'master'\n",
    "QUERY = \"\"\"\n",
    "SELECT COUNT(*)\n",
    "FROM master\n",
    "\"\"\"\n",
    "\n",
    "# the read_sql_query runs the sql query and returns the data as a dataframe\n",
    "df = pd.read_sql_query(QUERY,conn)\n",
    "df.head()"
   ]
  },
  {
   "cell_type": "markdown",
   "metadata": {},
   "source": [
    "## Demo: How to list all tables\n"
   ]
  },
  {
   "cell_type": "code",
   "execution_count": 33,
   "metadata": {
    "scrolled": true
   },
   "outputs": [
    {
     "data": {
      "text/html": [
       "<div>\n",
       "<style scoped>\n",
       "    .dataframe tbody tr th:only-of-type {\n",
       "        vertical-align: middle;\n",
       "    }\n",
       "\n",
       "    .dataframe tbody tr th {\n",
       "        vertical-align: top;\n",
       "    }\n",
       "\n",
       "    .dataframe thead th {\n",
       "        text-align: right;\n",
       "    }\n",
       "</style>\n",
       "<table border=\"1\" class=\"dataframe\">\n",
       "  <thead>\n",
       "    <tr style=\"text-align: right;\">\n",
       "      <th></th>\n",
       "      <th>Table_Name</th>\n",
       "    </tr>\n",
       "  </thead>\n",
       "  <tbody>\n",
       "    <tr>\n",
       "      <th>0</th>\n",
       "      <td>EduOther</td>\n",
       "    </tr>\n",
       "    <tr>\n",
       "      <th>1</th>\n",
       "      <td>DevType</td>\n",
       "    </tr>\n",
       "    <tr>\n",
       "      <th>2</th>\n",
       "      <td>LastInt</td>\n",
       "    </tr>\n",
       "    <tr>\n",
       "      <th>3</th>\n",
       "      <td>JobFactors</td>\n",
       "    </tr>\n",
       "    <tr>\n",
       "      <th>4</th>\n",
       "      <td>WorkPlan</td>\n",
       "    </tr>\n",
       "    <tr>\n",
       "      <th>5</th>\n",
       "      <td>WorkChallenge</td>\n",
       "    </tr>\n",
       "    <tr>\n",
       "      <th>6</th>\n",
       "      <td>LanguageWorkedWith</td>\n",
       "    </tr>\n",
       "    <tr>\n",
       "      <th>7</th>\n",
       "      <td>LanguageDesireNextYear</td>\n",
       "    </tr>\n",
       "    <tr>\n",
       "      <th>8</th>\n",
       "      <td>DatabaseWorkedWith</td>\n",
       "    </tr>\n",
       "    <tr>\n",
       "      <th>9</th>\n",
       "      <td>DatabaseDesireNextYear</td>\n",
       "    </tr>\n",
       "    <tr>\n",
       "      <th>10</th>\n",
       "      <td>PlatformWorkedWith</td>\n",
       "    </tr>\n",
       "    <tr>\n",
       "      <th>11</th>\n",
       "      <td>PlatformDesireNextYear</td>\n",
       "    </tr>\n",
       "    <tr>\n",
       "      <th>12</th>\n",
       "      <td>WebFrameWorkedWith</td>\n",
       "    </tr>\n",
       "    <tr>\n",
       "      <th>13</th>\n",
       "      <td>WebFrameDesireNextYear</td>\n",
       "    </tr>\n",
       "    <tr>\n",
       "      <th>14</th>\n",
       "      <td>MiscTechWorkedWith</td>\n",
       "    </tr>\n",
       "    <tr>\n",
       "      <th>15</th>\n",
       "      <td>MiscTechDesireNextYear</td>\n",
       "    </tr>\n",
       "    <tr>\n",
       "      <th>16</th>\n",
       "      <td>DevEnviron</td>\n",
       "    </tr>\n",
       "    <tr>\n",
       "      <th>17</th>\n",
       "      <td>Containers</td>\n",
       "    </tr>\n",
       "    <tr>\n",
       "      <th>18</th>\n",
       "      <td>SOVisitTo</td>\n",
       "    </tr>\n",
       "    <tr>\n",
       "      <th>19</th>\n",
       "      <td>SONewContent</td>\n",
       "    </tr>\n",
       "    <tr>\n",
       "      <th>20</th>\n",
       "      <td>Gender</td>\n",
       "    </tr>\n",
       "    <tr>\n",
       "      <th>21</th>\n",
       "      <td>Sexuality</td>\n",
       "    </tr>\n",
       "    <tr>\n",
       "      <th>22</th>\n",
       "      <td>Ethnicity</td>\n",
       "    </tr>\n",
       "    <tr>\n",
       "      <th>23</th>\n",
       "      <td>master</td>\n",
       "    </tr>\n",
       "  </tbody>\n",
       "</table>\n",
       "</div>"
      ],
      "text/plain": [
       "                Table_Name\n",
       "0                 EduOther\n",
       "1                  DevType\n",
       "2                  LastInt\n",
       "3               JobFactors\n",
       "4                 WorkPlan\n",
       "5            WorkChallenge\n",
       "6       LanguageWorkedWith\n",
       "7   LanguageDesireNextYear\n",
       "8       DatabaseWorkedWith\n",
       "9   DatabaseDesireNextYear\n",
       "10      PlatformWorkedWith\n",
       "11  PlatformDesireNextYear\n",
       "12      WebFrameWorkedWith\n",
       "13  WebFrameDesireNextYear\n",
       "14      MiscTechWorkedWith\n",
       "15  MiscTechDesireNextYear\n",
       "16              DevEnviron\n",
       "17              Containers\n",
       "18               SOVisitTo\n",
       "19            SONewContent\n",
       "20                  Gender\n",
       "21               Sexuality\n",
       "22               Ethnicity\n",
       "23                  master"
      ]
     },
     "execution_count": 33,
     "metadata": {},
     "output_type": "execute_result"
    }
   ],
   "source": [
    "# print all the tables names in the database\n",
    "QUERY = \"\"\"\n",
    "SELECT name as Table_Name FROM\n",
    "sqlite_master WHERE\n",
    "type = 'table'\n",
    "\"\"\"\n",
    "# the read_sql_query runs the sql query and returns the data as a dataframe\n",
    "pd.read_sql_query(QUERY,conn)\n"
   ]
  },
  {
   "cell_type": "markdown",
   "metadata": {},
   "source": [
    "## Demo: How to run a group by query\n"
   ]
  },
  {
   "cell_type": "code",
   "execution_count": 34,
   "metadata": {},
   "outputs": [
    {
     "data": {
      "text/html": [
       "<div>\n",
       "<style scoped>\n",
       "    .dataframe tbody tr th:only-of-type {\n",
       "        vertical-align: middle;\n",
       "    }\n",
       "\n",
       "    .dataframe tbody tr th {\n",
       "        vertical-align: top;\n",
       "    }\n",
       "\n",
       "    .dataframe thead th {\n",
       "        text-align: right;\n",
       "    }\n",
       "</style>\n",
       "<table border=\"1\" class=\"dataframe\">\n",
       "  <thead>\n",
       "    <tr style=\"text-align: right;\">\n",
       "      <th></th>\n",
       "      <th>Age</th>\n",
       "      <th>count</th>\n",
       "    </tr>\n",
       "  </thead>\n",
       "  <tbody>\n",
       "    <tr>\n",
       "      <th>0</th>\n",
       "      <td>NaN</td>\n",
       "      <td>287</td>\n",
       "    </tr>\n",
       "    <tr>\n",
       "      <th>1</th>\n",
       "      <td>16.0</td>\n",
       "      <td>3</td>\n",
       "    </tr>\n",
       "    <tr>\n",
       "      <th>2</th>\n",
       "      <td>17.0</td>\n",
       "      <td>6</td>\n",
       "    </tr>\n",
       "    <tr>\n",
       "      <th>3</th>\n",
       "      <td>18.0</td>\n",
       "      <td>29</td>\n",
       "    </tr>\n",
       "    <tr>\n",
       "      <th>4</th>\n",
       "      <td>19.0</td>\n",
       "      <td>78</td>\n",
       "    </tr>\n",
       "    <tr>\n",
       "      <th>5</th>\n",
       "      <td>20.0</td>\n",
       "      <td>109</td>\n",
       "    </tr>\n",
       "    <tr>\n",
       "      <th>6</th>\n",
       "      <td>21.0</td>\n",
       "      <td>203</td>\n",
       "    </tr>\n",
       "    <tr>\n",
       "      <th>7</th>\n",
       "      <td>22.0</td>\n",
       "      <td>406</td>\n",
       "    </tr>\n",
       "    <tr>\n",
       "      <th>8</th>\n",
       "      <td>23.0</td>\n",
       "      <td>581</td>\n",
       "    </tr>\n",
       "    <tr>\n",
       "      <th>9</th>\n",
       "      <td>24.0</td>\n",
       "      <td>679</td>\n",
       "    </tr>\n",
       "    <tr>\n",
       "      <th>10</th>\n",
       "      <td>25.0</td>\n",
       "      <td>738</td>\n",
       "    </tr>\n",
       "    <tr>\n",
       "      <th>11</th>\n",
       "      <td>26.0</td>\n",
       "      <td>720</td>\n",
       "    </tr>\n",
       "    <tr>\n",
       "      <th>12</th>\n",
       "      <td>27.0</td>\n",
       "      <td>724</td>\n",
       "    </tr>\n",
       "    <tr>\n",
       "      <th>13</th>\n",
       "      <td>28.0</td>\n",
       "      <td>787</td>\n",
       "    </tr>\n",
       "    <tr>\n",
       "      <th>14</th>\n",
       "      <td>29.0</td>\n",
       "      <td>697</td>\n",
       "    </tr>\n",
       "    <tr>\n",
       "      <th>15</th>\n",
       "      <td>30.0</td>\n",
       "      <td>651</td>\n",
       "    </tr>\n",
       "    <tr>\n",
       "      <th>16</th>\n",
       "      <td>31.0</td>\n",
       "      <td>531</td>\n",
       "    </tr>\n",
       "    <tr>\n",
       "      <th>17</th>\n",
       "      <td>32.0</td>\n",
       "      <td>489</td>\n",
       "    </tr>\n",
       "    <tr>\n",
       "      <th>18</th>\n",
       "      <td>33.0</td>\n",
       "      <td>483</td>\n",
       "    </tr>\n",
       "    <tr>\n",
       "      <th>19</th>\n",
       "      <td>34.0</td>\n",
       "      <td>395</td>\n",
       "    </tr>\n",
       "    <tr>\n",
       "      <th>20</th>\n",
       "      <td>35.0</td>\n",
       "      <td>393</td>\n",
       "    </tr>\n",
       "    <tr>\n",
       "      <th>21</th>\n",
       "      <td>36.0</td>\n",
       "      <td>308</td>\n",
       "    </tr>\n",
       "    <tr>\n",
       "      <th>22</th>\n",
       "      <td>37.0</td>\n",
       "      <td>280</td>\n",
       "    </tr>\n",
       "    <tr>\n",
       "      <th>23</th>\n",
       "      <td>38.0</td>\n",
       "      <td>279</td>\n",
       "    </tr>\n",
       "    <tr>\n",
       "      <th>24</th>\n",
       "      <td>39.0</td>\n",
       "      <td>232</td>\n",
       "    </tr>\n",
       "    <tr>\n",
       "      <th>25</th>\n",
       "      <td>40.0</td>\n",
       "      <td>187</td>\n",
       "    </tr>\n",
       "    <tr>\n",
       "      <th>26</th>\n",
       "      <td>41.0</td>\n",
       "      <td>136</td>\n",
       "    </tr>\n",
       "    <tr>\n",
       "      <th>27</th>\n",
       "      <td>42.0</td>\n",
       "      <td>162</td>\n",
       "    </tr>\n",
       "    <tr>\n",
       "      <th>28</th>\n",
       "      <td>43.0</td>\n",
       "      <td>100</td>\n",
       "    </tr>\n",
       "    <tr>\n",
       "      <th>29</th>\n",
       "      <td>44.0</td>\n",
       "      <td>95</td>\n",
       "    </tr>\n",
       "    <tr>\n",
       "      <th>30</th>\n",
       "      <td>45.0</td>\n",
       "      <td>85</td>\n",
       "    </tr>\n",
       "    <tr>\n",
       "      <th>31</th>\n",
       "      <td>46.0</td>\n",
       "      <td>66</td>\n",
       "    </tr>\n",
       "    <tr>\n",
       "      <th>32</th>\n",
       "      <td>47.0</td>\n",
       "      <td>68</td>\n",
       "    </tr>\n",
       "    <tr>\n",
       "      <th>33</th>\n",
       "      <td>48.0</td>\n",
       "      <td>64</td>\n",
       "    </tr>\n",
       "    <tr>\n",
       "      <th>34</th>\n",
       "      <td>49.0</td>\n",
       "      <td>66</td>\n",
       "    </tr>\n",
       "    <tr>\n",
       "      <th>35</th>\n",
       "      <td>50.0</td>\n",
       "      <td>57</td>\n",
       "    </tr>\n",
       "    <tr>\n",
       "      <th>36</th>\n",
       "      <td>51.0</td>\n",
       "      <td>29</td>\n",
       "    </tr>\n",
       "    <tr>\n",
       "      <th>37</th>\n",
       "      <td>52.0</td>\n",
       "      <td>41</td>\n",
       "    </tr>\n",
       "    <tr>\n",
       "      <th>38</th>\n",
       "      <td>53.0</td>\n",
       "      <td>32</td>\n",
       "    </tr>\n",
       "    <tr>\n",
       "      <th>39</th>\n",
       "      <td>54.0</td>\n",
       "      <td>26</td>\n",
       "    </tr>\n",
       "    <tr>\n",
       "      <th>40</th>\n",
       "      <td>55.0</td>\n",
       "      <td>13</td>\n",
       "    </tr>\n",
       "    <tr>\n",
       "      <th>41</th>\n",
       "      <td>56.0</td>\n",
       "      <td>16</td>\n",
       "    </tr>\n",
       "    <tr>\n",
       "      <th>42</th>\n",
       "      <td>57.0</td>\n",
       "      <td>11</td>\n",
       "    </tr>\n",
       "    <tr>\n",
       "      <th>43</th>\n",
       "      <td>58.0</td>\n",
       "      <td>12</td>\n",
       "    </tr>\n",
       "    <tr>\n",
       "      <th>44</th>\n",
       "      <td>59.0</td>\n",
       "      <td>11</td>\n",
       "    </tr>\n",
       "    <tr>\n",
       "      <th>45</th>\n",
       "      <td>60.0</td>\n",
       "      <td>2</td>\n",
       "    </tr>\n",
       "    <tr>\n",
       "      <th>46</th>\n",
       "      <td>61.0</td>\n",
       "      <td>10</td>\n",
       "    </tr>\n",
       "    <tr>\n",
       "      <th>47</th>\n",
       "      <td>62.0</td>\n",
       "      <td>5</td>\n",
       "    </tr>\n",
       "    <tr>\n",
       "      <th>48</th>\n",
       "      <td>63.0</td>\n",
       "      <td>7</td>\n",
       "    </tr>\n",
       "    <tr>\n",
       "      <th>49</th>\n",
       "      <td>65.0</td>\n",
       "      <td>2</td>\n",
       "    </tr>\n",
       "    <tr>\n",
       "      <th>50</th>\n",
       "      <td>66.0</td>\n",
       "      <td>1</td>\n",
       "    </tr>\n",
       "    <tr>\n",
       "      <th>51</th>\n",
       "      <td>67.0</td>\n",
       "      <td>1</td>\n",
       "    </tr>\n",
       "    <tr>\n",
       "      <th>52</th>\n",
       "      <td>69.0</td>\n",
       "      <td>1</td>\n",
       "    </tr>\n",
       "    <tr>\n",
       "      <th>53</th>\n",
       "      <td>71.0</td>\n",
       "      <td>2</td>\n",
       "    </tr>\n",
       "    <tr>\n",
       "      <th>54</th>\n",
       "      <td>72.0</td>\n",
       "      <td>1</td>\n",
       "    </tr>\n",
       "    <tr>\n",
       "      <th>55</th>\n",
       "      <td>99.0</td>\n",
       "      <td>1</td>\n",
       "    </tr>\n",
       "  </tbody>\n",
       "</table>\n",
       "</div>"
      ],
      "text/plain": [
       "     Age  count\n",
       "0    NaN    287\n",
       "1   16.0      3\n",
       "2   17.0      6\n",
       "3   18.0     29\n",
       "4   19.0     78\n",
       "5   20.0    109\n",
       "6   21.0    203\n",
       "7   22.0    406\n",
       "8   23.0    581\n",
       "9   24.0    679\n",
       "10  25.0    738\n",
       "11  26.0    720\n",
       "12  27.0    724\n",
       "13  28.0    787\n",
       "14  29.0    697\n",
       "15  30.0    651\n",
       "16  31.0    531\n",
       "17  32.0    489\n",
       "18  33.0    483\n",
       "19  34.0    395\n",
       "20  35.0    393\n",
       "21  36.0    308\n",
       "22  37.0    280\n",
       "23  38.0    279\n",
       "24  39.0    232\n",
       "25  40.0    187\n",
       "26  41.0    136\n",
       "27  42.0    162\n",
       "28  43.0    100\n",
       "29  44.0     95\n",
       "30  45.0     85\n",
       "31  46.0     66\n",
       "32  47.0     68\n",
       "33  48.0     64\n",
       "34  49.0     66\n",
       "35  50.0     57\n",
       "36  51.0     29\n",
       "37  52.0     41\n",
       "38  53.0     32\n",
       "39  54.0     26\n",
       "40  55.0     13\n",
       "41  56.0     16\n",
       "42  57.0     11\n",
       "43  58.0     12\n",
       "44  59.0     11\n",
       "45  60.0      2\n",
       "46  61.0     10\n",
       "47  62.0      5\n",
       "48  63.0      7\n",
       "49  65.0      2\n",
       "50  66.0      1\n",
       "51  67.0      1\n",
       "52  69.0      1\n",
       "53  71.0      2\n",
       "54  72.0      1\n",
       "55  99.0      1"
      ]
     },
     "execution_count": 34,
     "metadata": {},
     "output_type": "execute_result"
    }
   ],
   "source": [
    "QUERY = \"\"\"\n",
    "SELECT Age,COUNT(*) as count\n",
    "FROM master\n",
    "group by age\n",
    "order by age\n",
    "\"\"\"\n",
    "pd.read_sql_query(QUERY,conn)"
   ]
  },
  {
   "cell_type": "markdown",
   "metadata": {},
   "source": [
    "## Demo: How to describe a table\n"
   ]
  },
  {
   "cell_type": "code",
   "execution_count": 35,
   "metadata": {},
   "outputs": [
    {
     "name": "stdout",
     "output_type": "stream",
     "text": [
      "CREATE TABLE \"master\" (\n",
      "\"index\" INTEGER,\n",
      "  \"Respondent\" INTEGER,\n",
      "  \"MainBranch\" TEXT,\n",
      "  \"Hobbyist\" TEXT,\n",
      "  \"OpenSourcer\" TEXT,\n",
      "  \"OpenSource\" TEXT,\n",
      "  \"Employment\" TEXT,\n",
      "  \"Country\" TEXT,\n",
      "  \"Student\" TEXT,\n",
      "  \"EdLevel\" TEXT,\n",
      "  \"UndergradMajor\" TEXT,\n",
      "  \"OrgSize\" TEXT,\n",
      "  \"YearsCode\" TEXT,\n",
      "  \"Age1stCode\" TEXT,\n",
      "  \"YearsCodePro\" TEXT,\n",
      "  \"CareerSat\" TEXT,\n",
      "  \"JobSat\" TEXT,\n",
      "  \"MgrIdiot\" TEXT,\n",
      "  \"MgrMoney\" TEXT,\n",
      "  \"MgrWant\" TEXT,\n",
      "  \"JobSeek\" TEXT,\n",
      "  \"LastHireDate\" TEXT,\n",
      "  \"FizzBuzz\" TEXT,\n",
      "  \"ResumeUpdate\" TEXT,\n",
      "  \"CurrencySymbol\" TEXT,\n",
      "  \"CurrencyDesc\" TEXT,\n",
      "  \"CompTotal\" REAL,\n",
      "  \"CompFreq\" TEXT,\n",
      "  \"ConvertedComp\" REAL,\n",
      "  \"WorkWeekHrs\" REAL,\n",
      "  \"WorkRemote\" TEXT,\n",
      "  \"WorkLoc\" TEXT,\n",
      "  \"ImpSyn\" TEXT,\n",
      "  \"CodeRev\" TEXT,\n",
      "  \"CodeRevHrs\" REAL,\n",
      "  \"UnitTests\" TEXT,\n",
      "  \"PurchaseHow\" TEXT,\n",
      "  \"PurchaseWhat\" TEXT,\n",
      "  \"OpSys\" TEXT,\n",
      "  \"BlockchainOrg\" TEXT,\n",
      "  \"BlockchainIs\" TEXT,\n",
      "  \"BetterLife\" TEXT,\n",
      "  \"ITperson\" TEXT,\n",
      "  \"OffOn\" TEXT,\n",
      "  \"SocialMedia\" TEXT,\n",
      "  \"Extraversion\" TEXT,\n",
      "  \"ScreenName\" TEXT,\n",
      "  \"SOVisit1st\" TEXT,\n",
      "  \"SOVisitFreq\" TEXT,\n",
      "  \"SOFindAnswer\" TEXT,\n",
      "  \"SOTimeSaved\" TEXT,\n",
      "  \"SOHowMuchTime\" TEXT,\n",
      "  \"SOAccount\" TEXT,\n",
      "  \"SOPartFreq\" TEXT,\n",
      "  \"SOJobs\" TEXT,\n",
      "  \"EntTeams\" TEXT,\n",
      "  \"SOComm\" TEXT,\n",
      "  \"WelcomeChange\" TEXT,\n",
      "  \"Age\" REAL,\n",
      "  \"Trans\" TEXT,\n",
      "  \"Dependents\" TEXT,\n",
      "  \"SurveyLength\" TEXT,\n",
      "  \"SurveyEase\" TEXT\n",
      ")\n"
     ]
    }
   ],
   "source": [
    "table_name = 'master'  # the table you wish to describe\n",
    "\n",
    "QUERY = \"\"\"\n",
    "SELECT sql FROM sqlite_master\n",
    "WHERE name= '{}'\n",
    "\"\"\".format(table_name)\n",
    "\n",
    "df = pd.read_sql_query(QUERY,conn)\n",
    "print(df.iat[0,0])"
   ]
  },
  {
   "cell_type": "markdown",
   "metadata": {},
   "source": [
    "# Hands-on Lab\n"
   ]
  },
  {
   "cell_type": "markdown",
   "metadata": {},
   "source": [
    "## Visualizing distribution of data\n"
   ]
  },
  {
   "cell_type": "markdown",
   "metadata": {},
   "source": [
    "### Histograms\n"
   ]
  },
  {
   "cell_type": "markdown",
   "metadata": {},
   "source": [
    "Plot a histogram of `ConvertedComp.`\n"
   ]
  },
  {
   "cell_type": "code",
   "execution_count": 36,
   "metadata": {},
   "outputs": [
    {
     "data": {
      "image/png": "[encoded data removed]",
      "text/plain": [
       "<Figure size 432x288 with 1 Axes>"
      ]
     },
     "metadata": {
      "needs_background": "light"
     },
     "output_type": "display_data"
    }
   ],
   "source": [
    "Query=\"\"\"\n",
    "Select ConvertedComp From master \n",
    "\"\"\"\n",
    "\n",
    "df=pd.read_sql_query(Query,conn)\n",
    "df[\"ConvertedComp\"].plot(kind = \"hist\", bins=8, range=(0,2000000))\n",
    "plt.gca().set_ylim(bottom=0, top=10000)\n",
    "plt.xlabel('ConvertedComp')\n",
    "plt.ylabel('Frequency')\n",
    "plt.title('Histogram of ConvertedComp')\n",
    "\n",
    "plt.show()"
   ]
  },
  {
   "cell_type": "markdown",
   "metadata": {},
   "source": [
    "### Box Plots\n"
   ]
  },
  {
   "cell_type": "markdown",
   "metadata": {},
   "source": [
    "Plot a box plot of `Age.`\n"
   ]
  },
  {
   "cell_type": "code",
   "execution_count": 54,
   "metadata": {},
   "outputs": [
    {
     "data": {
      "image/png": "[encoded data removed]",
      "text/plain": [
       "<Figure size 720x720 with 1 Axes>"
      ]
     },
     "metadata": {
      "needs_background": "light"
     },
     "output_type": "display_data"
    }
   ],
   "source": [
    "Query=\"\"\"\n",
    "Select Age From master \n",
    "\"\"\"\n",
    "\n",
    "df=pd.read_sql_query(Query,conn)\n",
    "plt.figure(figsize=(10,10))\n",
    "df['Age'].plot(kind='box')\n",
    "plt.show()"
   ]
  },
  {
   "cell_type": "markdown",
   "metadata": {},
   "source": [
    "## Visualizing relationships in data\n"
   ]
  },
  {
   "cell_type": "markdown",
   "metadata": {},
   "source": [
    "### Scatter Plots\n"
   ]
  },
  {
   "cell_type": "markdown",
   "metadata": {},
   "source": [
    "Create a scatter plot of `Age` and `WorkWeekHrs.`\n"
   ]
  },
  {
   "cell_type": "code",
   "execution_count": 38,
   "metadata": {},
   "outputs": [
    {
     "data": {
      "image/png": "[encoded data removed]",
      "text/plain": [
       "<Figure size 432x288 with 1 Axes>"
      ]
     },
     "metadata": {
      "needs_background": "light"
     },
     "output_type": "display_data"
    }
   ],
   "source": [
    "# your code goes here\n",
    "Query=\"\"\"\n",
    "SELECT Age,WorkWeekHrs  From master\n",
    "\"\"\"\n",
    "\n",
    "df=pd.read_sql_query(Query,conn)\n",
    "plt.scatter(df['Age'], df['WorkWeekHrs'])\n",
    "plt.xlabel('Age')\n",
    "plt.ylabel('WorkWeekHrs')\n",
    "plt.show()\n"
   ]
  },
  {
   "cell_type": "code",
   "execution_count": 39,
   "metadata": {},
   "outputs": [
    {
     "data": {
      "image/png": "[encoded data removed]",
      "text/plain": [
       "<Figure size 864x504 with 1 Axes>"
      ]
     },
     "metadata": {
      "needs_background": "light"
     },
     "output_type": "display_data"
    }
   ],
   "source": [
    "Query=\"\"\"\n",
    "SELECT Age, AVG(WorkWeekHrs) as avg_WorkWeekHrs From master\n",
    "WHERE Age <= 75\n",
    "GROUP BY Age\n",
    "\"\"\"\n",
    "\n",
    "df=pd.read_sql_query(Query,conn)\n",
    "\n",
    "df.plot(kind='line', x='Age', y='avg_WorkWeekHrs', figsize=(12, 7))\n",
    "plt.xlabel('Age')\n",
    "plt.ylabel('Average Work Week Hours')\n",
    "plt.show()"
   ]
  },
  {
   "cell_type": "markdown",
   "metadata": {},
   "source": [
    "### Bubble Plots\n"
   ]
  },
  {
   "cell_type": "markdown",
   "metadata": {},
   "source": [
    "Create a bubble plot of `WorkWeekHrs` and `CodeRevHrs`, use `Age` column as bubble size.\n"
   ]
  },
  {
   "cell_type": "code",
   "execution_count": 40,
   "metadata": {},
   "outputs": [
    {
     "data": {
      "image/png": "[encoded data removed]",
      "text/plain": [
       "<Figure size 720x432 with 1 Axes>"
      ]
     },
     "metadata": {
      "needs_background": "light"
     },
     "output_type": "display_data"
    }
   ],
   "source": [
    "# your code goes here\n",
    "\n",
    "Query = \"\"\"\n",
    "SELECT Age, WorkWeekHrs, CodeRevHrs From master\n",
    "\"\"\"\n",
    "df = pd.read_sql_query(Query,conn)\n",
    "\n",
    "fig, ax = plt.subplots(figsize=(10,6))\n",
    "ax.scatter(df['WorkWeekHrs'], df['CodeRevHrs'], s=df['Age']*0.9, alpha=0.5)\n",
    "ax.set_xlabel('WorkWeekHrs')\n",
    "ax.set_ylabel('CodeRevHrs')\n",
    "ax.set_title('Bubble Plot of WorkWeekHrs and CodeRevHrs')\n",
    "plt.show()\n"
   ]
  },
  {
   "cell_type": "markdown",
   "metadata": {},
   "source": [
    "## Visualizing composition of data\n"
   ]
  },
  {
   "cell_type": "markdown",
   "metadata": {},
   "source": [
    "### Pie Charts\n"
   ]
  },
  {
   "cell_type": "markdown",
   "metadata": {},
   "source": [
    "Create a pie chart of the top 5 databases that respondents wish to learn next year. Label the pie chart with database names. Display percentages of each database on the pie chart.\n"
   ]
  },
  {
   "cell_type": "code",
   "execution_count": 42,
   "metadata": {},
   "outputs": [
    {
     "data": {
      "image/png": "[encoded data removed]",
      "text/plain": [
       "<Figure size 432x288 with 1 Axes>"
      ]
     },
     "metadata": {},
     "output_type": "display_data"
    }
   ],
   "source": [
    "# your code goes here\n",
    "Query = \"\"\"\n",
    "SELECT * FROM DatabaseDesireNextYear\n",
    "Group by DatabaseDesireNextYear\n",
    "Order by Respondent desc\n",
    "Limit 10\n",
    "\"\"\"\n",
    "df = pd.read_sql_query(Query, conn)\n",
    "pie_chart = df.plot.pie(y='Respondent', labels=df['DatabaseDesireNextYear'], autopct='%1.1f%%')\n",
    "pie_chart.legend(loc='upper left')\n",
    "plt.axis('equal')\n",
    "plt.show()"
   ]
  },
  {
   "cell_type": "markdown",
   "metadata": {},
   "source": [
    "### Stacked Charts\n"
   ]
  },
  {
   "cell_type": "markdown",
   "metadata": {},
   "source": [
    "Create a stacked chart of median `WorkWeekHrs` and `CodeRevHrs` for the age group 30 to 35.\n"
   ]
  },
  {
   "cell_type": "code",
   "execution_count": 43,
   "metadata": {},
   "outputs": [
    {
     "data": {
      "image/png": "[encoded data removed]",
      "text/plain": [
       "<Figure size 432x288 with 1 Axes>"
      ]
     },
     "metadata": {
      "needs_background": "light"
     },
     "output_type": "display_data"
    }
   ],
   "source": [
    "# your code goes here\n",
    "query = \"\"\"\n",
    "SELECT Age, WorkWeekHrs, CodeRevHrs \n",
    "FROM master \n",
    "WHERE Age BETWEEN 30 AND 35\n",
    "\"\"\"\n",
    "df = pd.read_sql_query(query, conn)\n",
    "\n",
    "# Calculate the median values for WorkWeekHrs and CodeRevHrs\n",
    "median_df = df.groupby('Age').median()\n",
    "\n",
    "# Plot the data as a stacked bar chart\n",
    "median_df.plot.bar(stacked=True)\n",
    "plt.xlabel('Age')\n",
    "plt.ylabel('Hours')\n",
    "plt.title('Median WorkWeekHrs and CodeRevHrs for Age Group 30 to 35')\n",
    "plt.show()\n"
   ]
  },
  {
   "cell_type": "markdown",
   "metadata": {},
   "source": [
    "## Visualizing comparison of data\n"
   ]
  },
  {
   "cell_type": "markdown",
   "metadata": {},
   "source": [
    "### Line Chart\n"
   ]
  },
  {
   "cell_type": "markdown",
   "metadata": {},
   "source": [
    "Plot the median `ConvertedComp` for all ages from 45 to 60.\n"
   ]
  },
  {
   "cell_type": "code",
   "execution_count": 44,
   "metadata": {},
   "outputs": [
    {
     "data": {
      "image/png": "[encoded data removed]",
      "text/plain": [
       "<Figure size 432x288 with 1 Axes>"
      ]
     },
     "metadata": {
      "needs_background": "light"
     },
     "output_type": "display_data"
    }
   ],
   "source": [
    "# your code goes here\n",
    "Query = \"\"\"\n",
    "SELECT Age, ConvertedComp FROM master\n",
    "WHERE Age BETWEEN 45 AND 60\n",
    "GROUP BY Age\n",
    "\"\"\"\n",
    "df=pd.read_sql_query(Query,conn)\n",
    "df.groupby(\"Age\")['ConvertedComp'].median().plot(kind='line')\n",
    "plt.xlabel(\"Age\")\n",
    "plt.ylabel(\"Median Converted Compensation\")\n",
    "plt.title(\"Median Converted Compensation for Age 45 to 60\")\n",
    "plt.show()\n"
   ]
  },
  {
   "cell_type": "markdown",
   "metadata": {},
   "source": [
    "### Bar Chart\n"
   ]
  },
  {
   "cell_type": "markdown",
   "metadata": {},
   "source": [
    "Create a horizontal bar chart using column `MainBranch.`\n"
   ]
  },
  {
   "cell_type": "code",
   "execution_count": 45,
   "metadata": {},
   "outputs": [
    {
     "data": {
      "image/png": "[encoded data removed]",
      "text/plain": [
       "<Figure size 432x288 with 1 Axes>"
      ]
     },
     "metadata": {
      "needs_background": "light"
     },
     "output_type": "display_data"
    }
   ],
   "source": [
    "# your code goes here\n",
    "\n",
    "Query = \"\"\"\n",
    "SELECT MainBranch, COUNT(MainBranch) as count FROM master\n",
    "GROUP BY MainBranch\n",
    "\"\"\"\n",
    "df = pd.read_sql_query(Query, conn)\n",
    "df.plot.barh(x='MainBranch', y='count', color='blue')\n",
    "plt.xlabel('Number of Respondents')\n",
    "plt.ylabel('Main Branch')\n",
    "plt.title('Respondents by Main Branch')\n",
    "plt.show()"
   ]
  },
  {
   "cell_type": "code",
   "execution_count": 48,
   "metadata": {},
   "outputs": [
    {
     "name": "stdout",
     "output_type": "stream",
     "text": [
      "CREATE TABLE \"DevType\" (\n",
      "\"Respondent\" INTEGER,\n",
      "  \"DevType\" TEXT\n",
      ")\n"
     ]
    }
   ],
   "source": [
    "table_name = 'DevType'  # the table you wish to describe\n",
    "\n",
    "QUERY = \"\"\"\n",
    "SELECT sql FROM sqlite_master\n",
    "WHERE name= '{}'\n",
    "\"\"\".format(table_name)\n",
    "\n",
    "df = pd.read_sql_query(QUERY,conn)\n",
    "print(df.iat[0,0])"
   ]
  },
  {
   "cell_type": "code",
   "execution_count": 66,
   "metadata": {},
   "outputs": [
    {
     "data": {
      "text/html": [
       "<div>\n",
       "<style scoped>\n",
       "    .dataframe tbody tr th:only-of-type {\n",
       "        vertical-align: middle;\n",
       "    }\n",
       "\n",
       "    .dataframe tbody tr th {\n",
       "        vertical-align: top;\n",
       "    }\n",
       "\n",
       "    .dataframe thead th {\n",
       "        text-align: right;\n",
       "    }\n",
       "</style>\n",
       "<table border=\"1\" class=\"dataframe\">\n",
       "  <thead>\n",
       "    <tr style=\"text-align: right;\">\n",
       "      <th></th>\n",
       "      <th>DevType</th>\n",
       "      <th>count</th>\n",
       "    </tr>\n",
       "  </thead>\n",
       "  <tbody>\n",
       "    <tr>\n",
       "      <th>0</th>\n",
       "      <td>System administrator</td>\n",
       "      <td>1202</td>\n",
       "    </tr>\n",
       "    <tr>\n",
       "      <th>1</th>\n",
       "      <td>Student</td>\n",
       "      <td>766</td>\n",
       "    </tr>\n",
       "    <tr>\n",
       "      <th>2</th>\n",
       "      <td>Senior executive/VP</td>\n",
       "      <td>160</td>\n",
       "    </tr>\n",
       "    <tr>\n",
       "      <th>3</th>\n",
       "      <td>Scientist</td>\n",
       "      <td>354</td>\n",
       "    </tr>\n",
       "    <tr>\n",
       "      <th>4</th>\n",
       "      <td>Product manager</td>\n",
       "      <td>480</td>\n",
       "    </tr>\n",
       "  </tbody>\n",
       "</table>\n",
       "</div>"
      ],
      "text/plain": [
       "                DevType  count\n",
       "0  System administrator   1202\n",
       "1               Student    766\n",
       "2   Senior executive/VP    160\n",
       "3             Scientist    354\n",
       "4       Product manager    480"
      ]
     },
     "execution_count": 66,
     "metadata": {},
     "output_type": "execute_result"
    }
   ],
   "source": [
    "QUERY='''\n",
    "SELECT DevType, COUNT(*) AS count \n",
    "From DevType\n",
    "GROUP BY DevType \n",
    "ORDER BY DevType desc\n",
    "LIMIT 5 \n",
    "'''\n",
    "df = pd.read_sql_query(QUERY,conn)\n",
    "df"
   ]
  },
  {
   "cell_type": "markdown",
   "metadata": {},
   "source": [
    "Close the database connection.\n"
   ]
  },
  {
   "cell_type": "code",
   "execution_count": null,
   "metadata": {},
   "outputs": [],
   "source": [
    "conn.close()"
   ]
  },
  {
   "cell_type": "markdown",
   "metadata": {},
   "source": [
    "## Authors\n"
   ]
  },
  {
   "cell_type": "markdown",
   "metadata": {},
   "source": [
    "Ramesh Sannareddy\n"
   ]
  },
  {
   "cell_type": "markdown",
   "metadata": {},
   "source": [
    "### Other Contributors\n"
   ]
  },
  {
   "cell_type": "markdown",
   "metadata": {},
   "source": [
    "Rav Ahuja\n"
   ]
  },
  {
   "cell_type": "markdown",
   "metadata": {},
   "source": [
    "## Change Log\n"
   ]
  },
  {
   "cell_type": "markdown",
   "metadata": {},
   "source": [
    "| Date (YYYY-MM-DD) | Version | Changed By        | Change Description                 |\n",
    "| ----------------- | ------- | ----------------- | ---------------------------------- |\n",
    "| 2020-10-17        | 0.1     | Ramesh Sannareddy | Created initial version of the lab |\n"
   ]
  },
  {
   "cell_type": "markdown",
   "metadata": {},
   "source": [
    "Copyright © 2020 IBM Corporation. This notebook and its source code are released under the terms of the [MIT License](https://cognitiveclass.ai/mit-license?utm_medium=Exinfluencer&utm_source=Exinfluencer&utm_content=000026UJ&utm_term=10006555&utm_id=NA-SkillsNetwork-Channel-SkillsNetworkCoursesIBMDA0321ENSkillsNetwork21426264-2022-01-01&cm_mmc=Email_Newsletter-\\_-Developer_Ed%2BTech-\\_-WW_WW-\\_-SkillsNetwork-Courses-IBM-DA0321EN-SkillsNetwork-21426264&cm_mmca1=000026UJ&cm_mmca2=10006555&cm_mmca3=M12345678&cvosrc=email.Newsletter.M12345678&cvo_campaign=000026UJ).\n"
   ]
  }
 ],
 "metadata": {
  "kernelspec": {
   "display_name": "Python 3 (ipykernel)",
   "language": "python",
   "name": "python3"
  },
  "language_info": {
   "codemirror_mode": {
    "name": "ipython",
    "version": 3
   },
   "file_extension": ".py",
   "mimetype": "text/x-python",
   "name": "python",
   "nbconvert_exporter": "python",
   "pygments_lexer": "ipython3",
   "version": "3.9.12"
  }
 },
 "nbformat": 4,
 "nbformat_minor": 4
}
